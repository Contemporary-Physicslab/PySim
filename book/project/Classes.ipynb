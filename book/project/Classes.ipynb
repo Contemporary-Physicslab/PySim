{
 "cells": [
  {
   "cell_type": "markdown",
   "id": "00ae0f47",
   "metadata": {},
   "source": [
    "# Classes"
   ]
  }
 ],
 "metadata": {
  "language_info": {
   "name": "python"
  }
 },
 "nbformat": 4,
 "nbformat_minor": 5
}
